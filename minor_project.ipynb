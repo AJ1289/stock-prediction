{
 "cells": [
  {
   "cell_type": "markdown",
   "metadata": {},
   "source": [
    "# Basic Calculator  using Try Except"
   ]
  },
  {
   "cell_type": "code",
   "execution_count": 1,
   "metadata": {},
   "outputs": [
    {
     "name": "stdout",
     "output_type": "stream",
     "text": [
      "Basic Calculator\n",
      "Enter Number 1 : 12\n",
      "Enter the Number 2: 3\n",
      "Choose Number of Operation\n",
      "1.Addition  2.Subtraction  3.Multiplication  4.Divison\n",
      "Enter Choosed Number1\n",
      "The Addition is :  15.0\n",
      "Want to do more calculation (y/n)y\n",
      "=======================================================\n",
      "Basic Calculator\n",
      "Enter Number 1 : 11\n",
      "Enter the Number 2: 0\n",
      "Choose Number of Operation\n",
      "1.Addition  2.Subtraction  3.Multiplication  4.Divison\n",
      "Enter Choosed Number4\n",
      "The Divison is not possible Divide by 0 Error\n",
      "Want to do more calculation (y/n)n\n",
      "=======================================================\n"
     ]
    }
   ],
   "source": [
    "#defining the functions for add,subtract,multiply and divide\n",
    "def add(a,b):\n",
    "    print('The Addition is : ',a+b)\n",
    "def sub(a,b):\n",
    "    print('The Subtraction is : ',a-b)\n",
    "def mul(a,b):\n",
    "    print('The Multiplication is : ',a*b)\n",
    "def divide(a,b):\n",
    "    if(b==0):\n",
    "        print('The Divison is not possible Divide by 0 Error')\n",
    "    else:\n",
    "        print('The Divison is : ',a/b)\n",
    "        \n",
    "# defining function to take input and choose a operation to be done\n",
    "def value():\n",
    "    try:        \n",
    "        print(\"Basic Calculator\")  \n",
    "        a=float(input('Enter Number 1 : '))\n",
    "        b=float(input('Enter the Number 2: '))\n",
    "        print(\"Choose Number of Operation\")\n",
    "        print(\"1.Addition  2.Subtraction  3.Multiplication  4.Divison\")\n",
    "        c=int(input('Enter Choosed Number'))\n",
    "        if(c==1):\n",
    "            add(a,b)\n",
    "    \n",
    "        elif(c==2):\n",
    "            sub(a,b)\n",
    "            \n",
    "        elif(c==3):\n",
    "            mul(a,b)\n",
    "        \n",
    "        elif(c==4):\n",
    "            divide(a,b)\n",
    "            \n",
    "        else:\n",
    "            print('Invalid Option')\n",
    "    except exception as e:\n",
    "        print(e)\n",
    "\n",
    "#calling the main function value and asking the user to do more or not\n",
    "d='y'\n",
    "while(d=='y'):        \n",
    "    value()\n",
    "    d=input('Want to do more calculation (y/n)')\n",
    "    print('=======================================================')\n",
    "    \n",
    "        "
   ]
  },
  {
   "cell_type": "markdown",
   "metadata": {},
   "source": [
    "# Python Program to find Prime no. or not"
   ]
  },
  {
   "cell_type": "code",
   "execution_count": 2,
   "metadata": {},
   "outputs": [
    {
     "name": "stdout",
     "output_type": "stream",
     "text": [
      "Enter the NUmber : 2\n",
      "No  2  Is Prime\n",
      "Want to do more calculation (y/n)y\n",
      "=======================================================\n",
      "Enter the NUmber : 37\n",
      "No  37  Is Prime\n",
      "Want to do more calculation (y/n)n\n",
      "=======================================================\n"
     ]
    }
   ],
   "source": [
    "def prime(a):\n",
    "    c=0\n",
    "    for i in range(2,a):\n",
    "        if(a//i==0):\n",
    "            c=c+1\n",
    "    if(c==0):\n",
    "        print('No',a,'Is Prime')\n",
    "    else:\n",
    "        print('No is not prime')\n",
    "        \n",
    "d='y'\n",
    "while(d=='y'):        \n",
    "    a=int(input('Enter the NUmber : '))\n",
    "    prime(a)\n",
    "    d=input('Want to do more calculation (y/n)')\n",
    "    print('=======================================================')"
   ]
  },
  {
   "cell_type": "markdown",
   "metadata": {},
   "source": [
    "# Building Linear Regression without sklearn"
   ]
  },
  {
   "cell_type": "code",
   "execution_count": 4,
   "metadata": {},
   "outputs": [
    {
     "name": "stdout",
     "output_type": "stream",
     "text": [
      "Estimated coefficients:\n",
      "b1 = -0.05862068965517242\n",
      "b2 = 1.457471264367816\n"
     ]
    },
    {
     "data": {
      "image/png": "[encoded data removed]",
      "text/plain": [
       "<matplotlib.figure.Figure at 0x87518d0>"
      ]
     },
     "metadata": {},
     "output_type": "display_data"
    }
   ],
   "source": [
    "# To build a regression we need to find a line that must same have a distance from each point and that line is called Regression Line\n",
    "import numpy as np \n",
    "import matplotlib.pyplot as plt \n",
    "  \n",
    "def Regression_coef(x, y): \n",
    "    # calculating size of dataset \n",
    "    n = np.size(x)   \n",
    "    # finding mean \n",
    "    mx, my = np.mean(x), np.mean(y)   \n",
    "    # calculating cross-deviation\n",
    "    cd1 = np.sum(y*x - n*my*mx) \n",
    "    cd2 = np.sum(x*x - n*mx*mx)   \n",
    "    #Regression coefficients \n",
    "    b1 = cd1 / cd2 \n",
    "    b0 = my - b1*mx   \n",
    "    return(b0, b1) \n",
    "  \n",
    "def Regression_line(x, y, b): \n",
    "    # plotting the taken points as scatter plot \n",
    "    plt.scatter(x, y, color = \"b\",marker = \"o\", s = 30)  \n",
    "    # predicted response vector of regresinon \n",
    "    y_pred = b[0] + b[1]*x   \n",
    "    # plotting the regression line \n",
    "    plt.plot(x, y_pred, color = \"g\")   \n",
    "    # putting labels \n",
    "    plt.xlabel('x-axis') \n",
    "    plt.ylabel('y-axis')\n",
    "    plt.title('Demonstrating Regression')\n",
    "    plt.grid()\n",
    "    plt.show() \n",
    "  \n",
    "def main(): \n",
    "    #Hypethetical points taken to demonstrate plot\n",
    "    x = np.array([0, 1, 2, 3, 4, 5, 6, 7, 8, 9]) \n",
    "    y = np.array([1, 3, 2, 5, 7, 8, 8, 9, 10, 12]) \n",
    "    # estimating coefficients \n",
    "    b = Regression_coef(x, y) \n",
    "    print(\"Estimated coefficients:\\nb1 = {}\\nb2 = {}\".format(b[0], b[1]))   \n",
    "    # plotting regression line \n",
    "    Regression_line(x, y, b) \n",
    "\n",
    "#caling the main function\n",
    "main()"
   ]
  }
 ],
 "metadata": {
  "kernelspec": {
   "display_name": "Python 3",
   "language": "python",
   "name": "python3"
  },
  "language_info": {
   "codemirror_mode": {
    "name": "ipython",
    "version": 3
   },
   "file_extension": ".py",
   "mimetype": "text/x-python",
   "name": "python",
   "nbconvert_exporter": "python",
   "pygments_lexer": "ipython3",
   "version": "3.6.4"
  }
 },
 "nbformat": 4,
 "nbformat_minor": 2
}
